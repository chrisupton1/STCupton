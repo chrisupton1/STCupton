{
  "nbformat": 4,
  "nbformat_minor": 0,
  "metadata": {
    "colab": {
      "name": "1_MakeABasicMap.ipynb",
      "provenance": [],
      "collapsed_sections": [],
      "include_colab_link": true
    },
    "kernelspec": {
      "name": "python3",
      "display_name": "Python 3"
    }
  },
  "cells": [
    {
      "cell_type": "markdown",
      "metadata": {
        "id": "view-in-github",
        "colab_type": "text"
      },
      "source": [
        "<a href=\"https://colab.research.google.com/github/chrisupton1/STCupton/blob/master/1_MakeABasicMap.chrisupton.ipynb\" target=\"_parent\"><img src=\"https://colab.research.google.com/assets/colab-badge.svg\" alt=\"Open In Colab\"/></a>"
      ]
    },
    {
      "cell_type": "markdown",
      "metadata": {
        "id": "vVM1mmNj6SWE",
        "colab_type": "text"
      },
      "source": [
        "\n",
        "# What we are doing\n",
        "In this practical exercise, you will make some basic maps. You're making them interactively in this notebook. To get started, we will get the tools we need. These tools are open source libraries from Python that enable powerful data visualisation. This is in fact the first bit of python code you are using today! \n",
        "\n",
        "We will always start a practical exercise in a notebook  like this. In this lab, we are using Panda, Folium and Branca libraries."
      ]
    },
    {
      "cell_type": "code",
      "metadata": {
        "id": "ws-jEcyKk0MF",
        "colab_type": "code",
        "outputId": "6ae12dc0-717b-46d9-af0a-5ced6b326418",
        "colab": {
          "base_uri": "https://localhost:8080/",
          "height": 51
        }
      },
      "source": [
        "#codecell_makeabasicmap_importyourlibraries\n",
        "import folium\n",
        "import branca\n",
        "import pandas as pd\n",
        "print(folium.__file__)\n",
        "print(folium.__version__)"
      ],
      "execution_count": 0,
      "outputs": [
        {
          "output_type": "stream",
          "text": [
            "/usr/local/lib/python3.6/dist-packages/folium/__init__.py\n",
            "0.8.3\n"
          ],
          "name": "stdout"
        }
      ]
    },
    {
      "cell_type": "markdown",
      "metadata": {
        "id": "ZnRemIE7mUQK",
        "colab_type": "text"
      },
      "source": [
        "# To make a map we need to get some data. \n",
        "This data must be explicitly spatial - that is have spatial coordinates that tell us about locations in a way that machines can understand. Spatial coordinates are pairs of numbers organised on a x-horizontal and y-vertical axis – this is the bit of geometry you will be using the most as an archaeologist! \n",
        "\n",
        "Coordinates (x,y) can also be called eastings & northings or latitude & longitudes depending on the type projection used to transform the map (refer to your First Course Meeting notes). The most common coordinate format for maps on the internet are [latitude and longitude coordinates](https://www.latlong.net/). \n",
        "\n",
        "\n",
        "\n",
        "---\n",
        "\n",
        "\n",
        "\n",
        "![Xs&Ys](https://github.com/Francoz-Charlotte/Spatial_teaching_CFediting/blob/master/x&y.png?raw=1) \n",
        "\n",
        "**Example of a cylindrical projection of the world**\n",
        "\n",
        "\n",
        "\n",
        "---\n",
        "\n",
        "\n",
        "\n",
        "\n",
        "In this notebook, we'll experiment with the spatial data from:\n",
        "\n",
        " Palmisano, A., Bevan, A. and Shennan, S., 2018. Regional Demographic Trends and Settlement Patterns in Central Italy: Archaeological Sites and Radiocarbon Dates. **Journal of Open Archaeology Data**, 6(1), p.2. DOI: [http://doi.org/10.5334/joad.43](http://doi.org/10.5334/joad.43)\n",
        " \n",
        "(Which you should have read about before class!)\n",
        " \n",
        "\n",
        "---\n",
        "\n",
        "\n",
        "These nice people provided the data behind their analysis so we can re-use it. I converted their old school shapefile to a CSV for you to make things easier. If you ever have to do this yourself, there are lots of online converters like [this one](https://mygeodata.cloud/converter/shp-to-csv). \n",
        "\n",
        "Later in the course, you will also learn to read data from shapefiles directly into your notebook. This is a little more complicated, so we are skipping it for now.\n",
        "\n",
        "* **Reminders**: \n",
        "a shapefile is a vector data storage file format that can be used in spatial software such as [Q-GIS](https://www.qgis.org/en/site/) (refer to your First Course Meeting notes). \n",
        "A CSV file is simple tabular file format using commas or spaces to distinguish elements within it.\n"
      ]
    },
    {
      "cell_type": "code",
      "metadata": {
        "id": "F0B_wkOblGUW",
        "colab_type": "code",
        "outputId": "d629cf37-e353-4984-aadd-73612fb9850c",
        "colab": {
          "base_uri": "https://localhost:8080/",
          "height": 204
        }
      },
      "source": [
        "#codecell_makeabasicmap_GetUrdataReady\n",
        "\n",
        "#Get the data by reading it into the notebook\n",
        "palmisano_tuscany_sites = pd.read_csv(\"https://raw.githubusercontent.com/ropitz/spatialarchaeology/master/data/site_centriods_tuscany.txt\")\n",
        "\n",
        "palmisano_tuscany_sites.head()"
      ],
      "execution_count": 0,
      "outputs": [
        {
          "output_type": "execute_result",
          "data": {
            "text/html": [
              "<div>\n",
              "<style scoped>\n",
              "    .dataframe tbody tr th:only-of-type {\n",
              "        vertical-align: middle;\n",
              "    }\n",
              "\n",
              "    .dataframe tbody tr th {\n",
              "        vertical-align: top;\n",
              "    }\n",
              "\n",
              "    .dataframe thead th {\n",
              "        text-align: right;\n",
              "    }\n",
              "</style>\n",
              "<table border=\"1\" class=\"dataframe\">\n",
              "  <thead>\n",
              "    <tr style=\"text-align: right;\">\n",
              "      <th></th>\n",
              "      <th>OBJECTID</th>\n",
              "      <th>Id</th>\n",
              "      <th>Toponyms</th>\n",
              "      <th>Type</th>\n",
              "      <th>Period</th>\n",
              "      <th>StartDate</th>\n",
              "      <th>EndDate</th>\n",
              "      <th>Longitude</th>\n",
              "      <th>Latitude</th>\n",
              "      <th>LocQual</th>\n",
              "      <th>SizeHa</th>\n",
              "      <th>SizeQual</th>\n",
              "      <th>Source</th>\n",
              "      <th>Source_id</th>\n",
              "      <th>ORIG_FID</th>\n",
              "    </tr>\n",
              "  </thead>\n",
              "  <tbody>\n",
              "    <tr>\n",
              "      <th>0</th>\n",
              "      <td>1</td>\n",
              "      <td>1</td>\n",
              "      <td>Padiglione</td>\n",
              "      <td>settlement</td>\n",
              "      <td>Iron Age</td>\n",
              "      <td>-800</td>\n",
              "      <td>-700</td>\n",
              "      <td>12.639324</td>\n",
              "      <td>41.515316</td>\n",
              "      <td>A</td>\n",
              "      <td>0.2</td>\n",
              "      <td>E</td>\n",
              "      <td>Attema et al. 2010, p. 229</td>\n",
              "      <td>15114</td>\n",
              "      <td>0</td>\n",
              "    </tr>\n",
              "    <tr>\n",
              "      <th>1</th>\n",
              "      <td>2</td>\n",
              "      <td>1</td>\n",
              "      <td>Padiglione</td>\n",
              "      <td>settlement</td>\n",
              "      <td>Republican Period</td>\n",
              "      <td>-100</td>\n",
              "      <td>-30</td>\n",
              "      <td>12.636817</td>\n",
              "      <td>41.516111</td>\n",
              "      <td>A</td>\n",
              "      <td>0.2</td>\n",
              "      <td>E</td>\n",
              "      <td>Attema et al. 2010, p. 229</td>\n",
              "      <td>15114</td>\n",
              "      <td>1</td>\n",
              "    </tr>\n",
              "    <tr>\n",
              "      <th>2</th>\n",
              "      <td>3</td>\n",
              "      <td>1</td>\n",
              "      <td>Padiglione</td>\n",
              "      <td>settlement</td>\n",
              "      <td>Imperial Period</td>\n",
              "      <td>-30</td>\n",
              "      <td>400</td>\n",
              "      <td>12.636793</td>\n",
              "      <td>41.516111</td>\n",
              "      <td>A</td>\n",
              "      <td>0.2</td>\n",
              "      <td>E</td>\n",
              "      <td>Attema et al. 2010, p. 229</td>\n",
              "      <td>15114</td>\n",
              "      <td>2</td>\n",
              "    </tr>\n",
              "    <tr>\n",
              "      <th>3</th>\n",
              "      <td>4</td>\n",
              "      <td>1</td>\n",
              "      <td>Padiglione</td>\n",
              "      <td>settlement</td>\n",
              "      <td>Late Antique/Early Medieval</td>\n",
              "      <td>400</td>\n",
              "      <td>500</td>\n",
              "      <td>12.636817</td>\n",
              "      <td>41.516111</td>\n",
              "      <td>A</td>\n",
              "      <td>0.2</td>\n",
              "      <td>E</td>\n",
              "      <td>Attema et al. 2010, p. 229</td>\n",
              "      <td>15114</td>\n",
              "      <td>3</td>\n",
              "    </tr>\n",
              "    <tr>\n",
              "      <th>4</th>\n",
              "      <td>5</td>\n",
              "      <td>2</td>\n",
              "      <td>Astura</td>\n",
              "      <td>settlement</td>\n",
              "      <td>Iron Age</td>\n",
              "      <td>-700</td>\n",
              "      <td>-600</td>\n",
              "      <td>12.769313</td>\n",
              "      <td>41.417720</td>\n",
              "      <td>A</td>\n",
              "      <td>34.0</td>\n",
              "      <td>D</td>\n",
              "      <td>Attema et al. 2010, p. 186; Picarreta 1977, p.21</td>\n",
              "      <td>11201</td>\n",
              "      <td>4</td>\n",
              "    </tr>\n",
              "  </tbody>\n",
              "</table>\n",
              "</div>"
            ],
            "text/plain": [
              "   OBJECTID  Id  ... Source_id ORIG_FID\n",
              "0         1   1  ...     15114        0\n",
              "1         2   1  ...     15114        1\n",
              "2         3   1  ...     15114        2\n",
              "3         4   1  ...     15114        3\n",
              "4         5   2  ...     11201        4\n",
              "\n",
              "[5 rows x 15 columns]"
            ]
          },
          "metadata": {
            "tags": []
          },
          "execution_count": 3
        }
      ]
    },
    {
      "cell_type": "markdown",
      "metadata": {
        "id": "QAwO-LHJ8Eka",
        "colab_type": "text"
      },
      "source": [
        ""
      ]
    },
    {
      "cell_type": "markdown",
      "metadata": {
        "id": "kyRsKLy6AtbQ",
        "colab_type": "text"
      },
      "source": [
        "#Learning a new language – decomposing the code\n",
        "\n",
        "In #codecell_makeabasicmap-GetUrdataReady, we have a simple piece of code which allows you to open the CSV file containing the archaeological sites information. The image below will help you to understand the code better and reuse it easily.\n",
        "\n",
        "![makeabasicmap_GetUrdataReady](https://github.com/Francoz-Charlotte/Spatial_teaching_CFediting/blob/master/makeabasicmap_GetUrdataReady_2.jpg?raw=1)\n",
        "\n",
        "\n",
        "\n",
        "\n"
      ]
    },
    {
      "cell_type": "markdown",
      "metadata": {
        "id": "14eCo5OlnD6b",
        "colab_type": "text"
      },
      "source": [
        "# Maps should answer questions\n",
        "\n",
        "We've discussed how to come up with a good, explicitly spatial question. We've also discussed how to design a good map. Here you're going to start putting all this into practice.\n",
        "\n",
        "The data in Palmisano et al. (2018) article provides information about settlement and population patterns in central Italy and how they change over time. Where people were living and working at various times in the past is a basic archaeological question.\n",
        "\n",
        "Let's say your question is about how many iron age sites are present in the region, and what their distribution is like in space - that is where they are located and how many relatively speaking are in each area. How would you go about answering this question with a map?\n",
        "\n",
        "# Start by filtering your big dataset to get only the data you need\n",
        "\n",
        "The original data file contains over 10970 entries for all archaeological settlement in Central Italy. So you need to filter or SUBSELECT your big data file to get just the iron age sites.\n"
      ]
    },
    {
      "cell_type": "code",
      "metadata": {
        "id": "1PiNejEBmrhR",
        "colab_type": "code",
        "outputId": "687898e5-842c-4dec-ddbe-3a5a667cfe22",
        "colab": {
          "base_uri": "https://localhost:8080/",
          "height": 204
        }
      },
      "source": [
        "#codecell_makeabasicmap_SubSelectData\n",
        "\n",
        "#tell the notebook you only want to see stuff where the period is the iron age.\n",
        "palmisano_tuscany_sites_iron_age = palmisano_tuscany_sites[(palmisano_tuscany_sites['Period']==\"Iron Age\") ]\n",
        "\n",
        "palmisano_tuscany_sites_iron_age.head()"
      ],
      "execution_count": 0,
      "outputs": [
        {
          "output_type": "execute_result",
          "data": {
            "text/html": [
              "<div>\n",
              "<style scoped>\n",
              "    .dataframe tbody tr th:only-of-type {\n",
              "        vertical-align: middle;\n",
              "    }\n",
              "\n",
              "    .dataframe tbody tr th {\n",
              "        vertical-align: top;\n",
              "    }\n",
              "\n",
              "    .dataframe thead th {\n",
              "        text-align: right;\n",
              "    }\n",
              "</style>\n",
              "<table border=\"1\" class=\"dataframe\">\n",
              "  <thead>\n",
              "    <tr style=\"text-align: right;\">\n",
              "      <th></th>\n",
              "      <th>OBJECTID</th>\n",
              "      <th>Id</th>\n",
              "      <th>Toponyms</th>\n",
              "      <th>Type</th>\n",
              "      <th>Period</th>\n",
              "      <th>StartDate</th>\n",
              "      <th>EndDate</th>\n",
              "      <th>Longitude</th>\n",
              "      <th>Latitude</th>\n",
              "      <th>LocQual</th>\n",
              "      <th>SizeHa</th>\n",
              "      <th>SizeQual</th>\n",
              "      <th>Source</th>\n",
              "      <th>Source_id</th>\n",
              "      <th>ORIG_FID</th>\n",
              "    </tr>\n",
              "  </thead>\n",
              "  <tbody>\n",
              "    <tr>\n",
              "      <th>0</th>\n",
              "      <td>1</td>\n",
              "      <td>1</td>\n",
              "      <td>Padiglione</td>\n",
              "      <td>settlement</td>\n",
              "      <td>Iron Age</td>\n",
              "      <td>-800</td>\n",
              "      <td>-700</td>\n",
              "      <td>12.639324</td>\n",
              "      <td>41.515316</td>\n",
              "      <td>A</td>\n",
              "      <td>0.20</td>\n",
              "      <td>E</td>\n",
              "      <td>Attema et al. 2010, p. 229</td>\n",
              "      <td>15114</td>\n",
              "      <td>0</td>\n",
              "    </tr>\n",
              "    <tr>\n",
              "      <th>4</th>\n",
              "      <td>5</td>\n",
              "      <td>2</td>\n",
              "      <td>Astura</td>\n",
              "      <td>settlement</td>\n",
              "      <td>Iron Age</td>\n",
              "      <td>-700</td>\n",
              "      <td>-600</td>\n",
              "      <td>12.769313</td>\n",
              "      <td>41.417720</td>\n",
              "      <td>A</td>\n",
              "      <td>34.00</td>\n",
              "      <td>D</td>\n",
              "      <td>Attema et al. 2010, p. 186; Picarreta 1977, p.21</td>\n",
              "      <td>11201</td>\n",
              "      <td>4</td>\n",
              "    </tr>\n",
              "    <tr>\n",
              "      <th>96</th>\n",
              "      <td>97</td>\n",
              "      <td>65</td>\n",
              "      <td>Piscina della Farna</td>\n",
              "      <td>settlement</td>\n",
              "      <td>Iron Age</td>\n",
              "      <td>-700</td>\n",
              "      <td>-600</td>\n",
              "      <td>12.726173</td>\n",
              "      <td>41.482471</td>\n",
              "      <td>A</td>\n",
              "      <td>0.04</td>\n",
              "      <td>E</td>\n",
              "      <td>Attema et al. 2010</td>\n",
              "      <td>11284</td>\n",
              "      <td>96</td>\n",
              "    </tr>\n",
              "    <tr>\n",
              "      <th>104</th>\n",
              "      <td>105</td>\n",
              "      <td>70</td>\n",
              "      <td>Cadolino</td>\n",
              "      <td>settlement</td>\n",
              "      <td>Iron Age</td>\n",
              "      <td>-800</td>\n",
              "      <td>-700</td>\n",
              "      <td>12.662566</td>\n",
              "      <td>41.492596</td>\n",
              "      <td>A</td>\n",
              "      <td>1.00</td>\n",
              "      <td>E</td>\n",
              "      <td>Attema et al. 2010</td>\n",
              "      <td>15003</td>\n",
              "      <td>104</td>\n",
              "    </tr>\n",
              "    <tr>\n",
              "      <th>133</th>\n",
              "      <td>134</td>\n",
              "      <td>81</td>\n",
              "      <td>Pineta della Campana</td>\n",
              "      <td>settlement</td>\n",
              "      <td>Iron Age</td>\n",
              "      <td>-700</td>\n",
              "      <td>-600</td>\n",
              "      <td>12.670644</td>\n",
              "      <td>41.513748</td>\n",
              "      <td>A</td>\n",
              "      <td>0.08</td>\n",
              "      <td>E</td>\n",
              "      <td>Attema et al. 2010</td>\n",
              "      <td>15029</td>\n",
              "      <td>133</td>\n",
              "    </tr>\n",
              "  </tbody>\n",
              "</table>\n",
              "</div>"
            ],
            "text/plain": [
              "     OBJECTID  Id  ... Source_id ORIG_FID\n",
              "0           1   1  ...     15114        0\n",
              "4           5   2  ...     11201        4\n",
              "96         97  65  ...     11284       96\n",
              "104       105  70  ...     15003      104\n",
              "133       134  81  ...     15029      133\n",
              "\n",
              "[5 rows x 15 columns]"
            ]
          },
          "metadata": {
            "tags": []
          },
          "execution_count": 4
        }
      ]
    },
    {
      "cell_type": "markdown",
      "metadata": {
        "colab_type": "text",
        "id": "FpEzAptwEiKz"
      },
      "source": [
        "#Learning a new language – decomposing the code\n",
        "\n",
        "In the #code_makeabasicmap_SubSelectData, we have a simple piece of code which allows you to open the CSV file containing the archaeological sites information. The image below is decomposing this codeline, so you can understand how python language works and re-use it easily.  \n",
        "\n",
        "![](https://github.com/Francoz-Charlotte/Spatial_teaching_CFediting/blob/master/makeabasicmap_SubSelectData.jpg?raw=1)"
      ]
    },
    {
      "cell_type": "markdown",
      "metadata": {
        "id": "lTRfAfasnd1A",
        "colab_type": "text"
      },
      "source": [
        "# Put the data onto a map\n",
        "Now we want to add this data to a simple map. \n",
        "\n",
        "You need to start by getting the coordinates of all the points so you can center the map - that is focus on the area where your data is. Probably it will be a good idea to put the middle of your map roughly where the middle of your dataset is located. \n",
        "\n",
        "Think about it... if your data is in Italy, putting Antarctica as the center of your map is not going to be very effective.\n",
        "\n",
        "![Antarctica is not where the map should be](https://upload.wikimedia.org/wikipedia/commons/thumb/e/e0/Antarctica_6400px_from_Blue_Marble.jpg/310px-Antarctica_6400px_from_Blue_Marble.jpg)\n",
        "\n",
        "\n",
        "Now, you want to add a marker for each Iron Age site. A marker, recall, is a graphic icon to represent the coordinates where a site is centred. \n"
      ]
    },
    {
      "cell_type": "code",
      "metadata": {
        "id": "DhHMGaQMneNF",
        "colab_type": "code",
        "outputId": "6deb9c83-bf86-42bd-88c0-e9ee1dbe976f",
        "colab": {
          "base_uri": "https://localhost:8080/",
          "height": 1000
        }
      },
      "source": [
        "#codecell_makeabasicmap_BringingUrData2theMap\n",
        "\n",
        "#location is the mean of every lat and long point to centre the map.\n",
        "location = palmisano_tuscany_sites_iron_age['Latitude'].mean(), palmisano_tuscany_sites_iron_age['Longitude'].mean()\n",
        "\n",
        "#A basemap is then created using the location to centre on and the zoom level to start.\n",
        "m = folium.Map(location=location,zoom_start=10)\n",
        "\n",
        "#Each location in the DataFrame is then added as a marker to the basemap points are then added to the map\n",
        "for i in range(0,len(palmisano_tuscany_sites_iron_age)):\n",
        "    folium.Marker([palmisano_tuscany_sites_iron_age['Latitude'].iloc[i],palmisano_tuscany_sites_iron_age['Longitude'].iloc[i]]).add_to(m)\n",
        "        \n",
        "#To display the map simply ask for the object (called 'm') representation\n",
        "m"
      ],
      "execution_count": 0,
      "outputs": [
        {
          "output_type": "execute_result",
          "data": {
            "text/html": [
              "<div style=\"width:100%;\"><div style=\"position:relative;width:100%;height:0;padding-bottom:60%;\"><iframe src=\"data:text/html;charset=utf-8;base64,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\" style=\"position:absolute;width:100%;height:100%;left:0;top:0;border:none !important;\" allowfullscreen webkitallowfullscreen mozallowfullscreen></iframe></div></div>"
            ],
            "text/plain": [
              "<folium.folium.Map at 0x7fe735966978>"
            ]
          },
          "metadata": {
            "tags": []
          },
          "execution_count": 5
        }
      ]
    },
    {
      "cell_type": "markdown",
      "metadata": {
        "id": "9og4onHTCWr9",
        "colab_type": "text"
      },
      "source": [
        "#Learning a new language – decomposing the code\n",
        "\n",
        "The #codecell_makeabasicmap_BringingUrData2theMap contains four codelines aimed to:\n",
        "\n",
        "* centre your map by calculating the mean of the latitude coordinates and mean of longitude coordinates;\n",
        "\n",
        "* zoom your map to a suitable level - e.g. world, country, region or street level;\n",
        "\n",
        "* place a marker for each archaeological site location.\n",
        "\n",
        "* show the results interactively.\n",
        "\n",
        "\n",
        "Below are the three codelines of the script decomposed for you, so you can adapt it easily in the future.\n",
        "\n",
        "![](https://github.com/Francoz-Charlotte/Spatial_teaching_CFediting/blob/master/makeabasicmap_BringingUrData2theMap_codeline1.jpg?raw=1)\n",
        "\n",
        "**Reminder**: the mean or average of a set is the total sum of all numbers divided by the number of items in the set. So, for instance, the mean of latitude coordinates = sum of all latitude coordinates/ divided by the number of latitude coordinates in the dataframe.\n",
        "\n",
        "\n",
        "---\n",
        "\n",
        "\n",
        "\n",
        "![](https://github.com/Francoz-Charlotte/Spatial_teaching_CFediting/blob/master/makeabasicmap_BringingUrData2theMap_codeline2.jpg?raw=1)\n",
        "\n",
        "This codeline shows the powerful capabilities of the Folium library you've imported at the start of this practical lab. You can find more detailed guidance about it [here](https://python-visualization.github.io/folium/).\n",
        "\n",
        "\n",
        "---\n",
        "\n",
        "\n",
        "\n",
        "![](https://github.com/Francoz-Charlotte/Spatial_teaching_CFediting/blob/master/makeabasicmap_BringingUrData2theMap_codeline3.jpg?raw=1)\n",
        "\n",
        "This codeline introduces you to two important concepts in coding: the [range](https://pynative.com/python-range-function/) and the loop by using iloc command. \n",
        "Furthermore, by using range(), len() and iloc() you could implement a loop in Python for iterating rows and columns of your filtered pandas dataframe (palminsano_tuscany_sites_iron_age).\n",
        "\n",
        "---\n",
        "\n"
      ]
    },
    {
      "cell_type": "markdown",
      "metadata": {
        "id": "xT89bOyooeE9",
        "colab_type": "text"
      },
      "source": [
        "\n",
        "# Yay! \n",
        "\n",
        "You have a map. Now, a design question: what is a good starting zoom level?\n",
        "\n",
        "Do you want your map zoomed further out or further in given the extent of your data? \n",
        "\n",
        "In the code cell above, play around with the '**zoom_start**' parameter and find a good zoom level that makes you happy.\n",
        "\n",
        "\n",
        "---\n",
        "\n",
        "# You just modified the code to suit your own needs\n",
        "\n",
        "Rather than just executing code by pushing play, you've edited the code by changing a variable. \n",
        "\n",
        "Easy, right?\n",
        "\n",
        "This is where many people get started with scripting in archaeology. You find a bit of [open source code](https://opensource.com/resources/what-open-source) that seems to do what you need, and then you modify it. There's no sense in writing code from scratch when there's lots of useful open source code available that is meant to be shared and modified.\n",
        "\n"
      ]
    },
    {
      "cell_type": "markdown",
      "metadata": {
        "id": "T6kjhm_lpmEu",
        "colab_type": "text"
      },
      "source": [
        "# Representing information and relative values or quantities with graphics\n",
        "\n",
        "Now let's look at how to represent larger and smaller sites. The archaeologists in this project have a qualitative ranking of site size from large (A) to small (F). \n",
        "\n",
        "You can see the categories they've used, and that there are more small sites than larger ones. \n",
        "\n",
        "Say you want to make the two categories of sites that are the largest different colours. Why do this? Maybe larger sites have more people, so this provides insights into demographics.\n",
        "\n"
      ]
    },
    {
      "cell_type": "code",
      "metadata": {
        "id": "-x3bmE-3ov3c",
        "colab_type": "code",
        "colab": {}
      },
      "source": [
        "#codecell_makeabasicmap_ManipulatingyourData_ValueCounting\n",
        "\n",
        "# Size surely matters... group the sites by size category and get the number of sites in each size category.\n",
        "# SizeQual is the name of the 'attribute', or column in the table, that has information on site size. \n",
        "# An attribute is anything attached to spatial data other than the coordinates, such as period, type, size in hectare,etc. \n",
        "\n",
        "palmisano_tuscany_sites_iron_age['SizeQual'].value_counts()"
      ],
      "execution_count": 0,
      "outputs": []
    },
    {
      "cell_type": "markdown",
      "metadata": {
        "id": "MsrofuJaS789",
        "colab_type": "text"
      },
      "source": [
        "\n",
        "\n",
        "\n",
        "---\n",
        "\n",
        "\n",
        "**Learning a new language – decomposing the code**:\n",
        "\n",
        "**.value_counts()** is a function that allows you to count numerical and categorical data (e.g. numbers, objects or labels such as attributes). The results are returned as a series of numbers in descending order, so, that you can further evaluate the frequency and distribution of these values.\n",
        "\n",
        "---\n",
        "\n",
        "\n",
        "\n"
      ]
    },
    {
      "cell_type": "markdown",
      "metadata": {
        "id": "mwFZ8ugBIud3",
        "colab_type": "text"
      },
      "source": [
        "In the step above, #codecell_makeabasicmap_SubSelectData, you've set up your new dataset by filtering the iron age settlements from the original dataset. It's what we would call a 'subset' of your original data.\n",
        "\n",
        "Now you are ready to make a new map."
      ]
    },
    {
      "cell_type": "code",
      "metadata": {
        "id": "_vu_cUOzp77n",
        "colab_type": "code",
        "colab": {}
      },
      "source": [
        "#codecell_makeabasicmap_ManipulatingyourData_UsingSymbology\n",
        "\n",
        "#now make a map just like you did before. Note that this time we're adding a scale bar with 'control_scale'\n",
        "location = palmisano_tuscany_sites_iron_age['Latitude'].mean(), palmisano_tuscany_sites_iron_age['Longitude'].mean()\n",
        "m = folium.Map(location=location,zoom_start=10,control_scale = True)\n",
        "\n",
        "#Assign different colours to the two large site categories - B and C in this case\n",
        "for i in range(0,len(palmisano_tuscany_sites_iron_age)):\n",
        "\n",
        "\n",
        "    site_size = palmisano_tuscany_sites_iron_age['SizeQual'].iloc[i]\n",
        "    if site_size == 'C':\n",
        "        color = 'blue'\n",
        "    elif site_size == 'B':\n",
        "        color = 'green'\n",
        "    else:\n",
        "        color = 'red'\n",
        "    \n",
        "# add the markers to the map, using the locations and colours    \n",
        "    folium.Marker([palmisano_tuscany_sites_iron_age['Latitude'].iloc[i],palmisano_tuscany_sites_iron_age['Longitude'].iloc[i]],icon=folium.Icon(color=color)).add_to(m)\n",
        "\n",
        "#type 'm' for map (the variable you set above) to tell the notebook to display your map\n",
        "m"
      ],
      "execution_count": 0,
      "outputs": []
    },
    {
      "cell_type": "markdown",
      "metadata": {
        "id": "yUZmFVuyJ9tN",
        "colab_type": "text"
      },
      "source": [
        "#Learning a new language – decomposing the code\n",
        "for #codecell_makeabasicmap_ManipulatingyourData_UsingSymbology can be decomposed like this:\n",
        "\n",
        "![](https://github.com/Francoz-Charlotte/Spatial_teaching_CFediting/blob/master/makeabasicmap_ManipulatingyourData_UsingSymbology_.jpg?raw=1) \n",
        "\n",
        "\n",
        "\n",
        "\n",
        "\n",
        "---\n",
        "\n",
        "\n",
        "* Note: You can easily change icon style  and find more in this [list](https://fontawesome.com/icons?d=gallery). \n"
      ]
    },
    {
      "cell_type": "markdown",
      "metadata": {
        "id": "VjuGVxl8rKue",
        "colab_type": "text"
      },
      "source": [
        "# Designing your map - Symbology\n",
        "\n",
        "Now, go back into #codecell_makeabasicmap_ManipulatingyourData_UsingSymbology and experiment a bit. Try out some different colours. Do certain combinations work well? Try adding different colours for each of the smaller categories of sites. Does that make the map clearer or more confusing?"
      ]
    },
    {
      "cell_type": "markdown",
      "metadata": {
        "id": "ZcN5jSj13Ive",
        "colab_type": "text"
      },
      "source": [
        "## What symbol scheme is best for your map?\n",
        "\n",
        "Maybe it makes more sense to show size by changing the size of the icon than the colour. Let's make another map that varies the size of the icon for each site based on its size in hectares. "
      ]
    },
    {
      "cell_type": "code",
      "metadata": {
        "id": "8d_u8uL5wKBg",
        "colab_type": "code",
        "colab": {}
      },
      "source": [
        "#codecell_makeabasicmap_ManipulatingyourData_UsingSymbologyExperimenting\n",
        "\n",
        "#now make a map just like you did before. \n",
        "location = palmisano_tuscany_sites_iron_age['Latitude'].mean(), palmisano_tuscany_sites_iron_age['Longitude'].mean()\n",
        "m = folium.Map(location=location,zoom_start=8,control_scale = True)\n",
        "\n",
        "\n",
        "# Set the size for each circle icon by defining the 'radius' which is the radius of the circle\n",
        "# Here we are multiplying the size in hectares (the SizeHa attribute) by 15. Try different values here to get icons a size you like\n",
        "for i in range(0,len(palmisano_tuscany_sites_iron_age)):\n",
        "   folium.Circle(\n",
        "      location=[palmisano_tuscany_sites_iron_age['Latitude'].iloc[i],palmisano_tuscany_sites_iron_age['Longitude'].iloc[i]],\n",
        "      popup=palmisano_tuscany_sites_iron_age.iloc[i]['Toponyms'],\n",
        "      radius=palmisano_tuscany_sites_iron_age.iloc[i]['SizeHa']*15, #this is where we set the value of 15 - change this variable to get differrent size icons\n",
        "      color='crimson',\n",
        "      fill=True,\n",
        "      fill_color='crimson'\n",
        "   ).add_to(m)\n",
        "    \n",
        "#type 'm' for map (the variable you set above) to tell the notebook to display your map\n",
        "m"
      ],
      "execution_count": 0,
      "outputs": []
    },
    {
      "cell_type": "markdown",
      "metadata": {
        "id": "0lgx9Jyg9FAz",
        "colab_type": "text"
      },
      "source": [
        "#Learning a new language – decomposing the code\n",
        "\n",
        "for #codecell_makeabasicmap_ManipulatingyourData_UsingSymbologyExperimenting can be decomposed like this:\n",
        "\n",
        "![](https://github.com/Francoz-Charlotte/Spatial_teaching_CFediting/blob/master/makeabasicmap_ManipulatingyourData_UsingSymbologyExperimenting.jpg?raw=1)"
      ]
    },
    {
      "cell_type": "markdown",
      "metadata": {
        "id": "UGrxvlO1sn1m",
        "colab_type": "text"
      },
      "source": [
        "# thinking about spatial density or 'clustering' or conceptration\n",
        "\n",
        "**Research question** Now what if you want to make a map that shows the concentration of sites in the iron age, that is areas with more and fewer sites? \n",
        "\n",
        "\n",
        "This kind of map is often called a 'heatmap'. Essentially it shows areas with more sites as 'hotter' (generally red in colour) and areas with fewer sites as cooler.In this kind of map surely larger sites should count more - we call this 'weighting'. The general idea is that a site that is twice as large should count for twice as much in our heatmap.\n",
        "\n",
        "Weighting can influence the results of spatial analyses of our data. For example, consider the distribution of points in the image below. If we allow all the sites to count equally in and then calculate their mean coordinates (see the explanation above about calculating the mean) the center is 'unweighted' and will end up where the red circle in the top image is. On the other hand, if we set up weights so that the size of the site corresponds to its influence on our calculated mean coordinates, we end up with the center of our distribution where the red circle in the bottom image is. \n",
        "\n",
        "\n",
        "![](https://github.com/Francoz-Charlotte/Spatial_teaching_CFediting/blob/master/SpatialAnalysis_Weighted.jpg?raw=1)\n",
        "\n",
        "Adapted from (https://pro.arcgis.com/en/pro-app/tool-reference/spatial-statistics/using-weights.htm)\n",
        "\n",
        "*When might this be important? What kinds of archaeological questions involve finding the spatial centre of a distribution of sites or finds or features?*"
      ]
    },
    {
      "cell_type": "code",
      "metadata": {
        "id": "dMDhTabesLOc",
        "colab_type": "code",
        "colab": {}
      },
      "source": [
        "#codecell_makeabasicmap_ManipulatingyourData_Heatmap\n",
        "\n",
        "#first make a list of the coordinates of each site and its size in hectares, which we will use for the size-based weighting\n",
        "data_heat = palmisano_tuscany_sites_iron_age[['Latitude','Longitude','SizeHa']].values.tolist()"
      ],
      "execution_count": 0,
      "outputs": []
    },
    {
      "cell_type": "code",
      "metadata": {
        "id": "pzzi69aXtyMN",
        "colab_type": "code",
        "colab": {}
      },
      "source": [
        "#look at the first line of your list to check it seems to have worked\n",
        "data_heat[0]"
      ],
      "execution_count": 0,
      "outputs": []
    },
    {
      "cell_type": "code",
      "metadata": {
        "id": "TVAorbp9uKIS",
        "colab_type": "code",
        "colab": {}
      },
      "source": [
        "#to make the heatmap, we need to get an extra tool, so...\n",
        "import folium.plugins as plugins\n",
        "\n"
      ],
      "execution_count": 0,
      "outputs": []
    },
    {
      "cell_type": "code",
      "metadata": {
        "id": "ZIe4sfeVuM80",
        "colab_type": "code",
        "colab": {}
      },
      "source": [
        "# now make a map a bit like you did before, set your zoom level and your centre location. Then use the plugin to make the heatmap. \n",
        "\n",
        "m = folium.Map(location=location, zoom_start=10)\n",
        "\n",
        "#tiles='stamentoner'\n",
        "\n",
        "plugins.HeatMap(data_heat).add_to(m)\n",
        "\n",
        "#type 'm' for map (the variable you set above) to tell the notebook to display your map\n",
        "m"
      ],
      "execution_count": 0,
      "outputs": []
    },
    {
      "cell_type": "markdown",
      "metadata": {
        "id": "5e19_h8BFXjE",
        "colab_type": "text"
      },
      "source": [
        "#Learning a new language – decomposing the code\n",
        "\n",
        "for #codecell_makeabasicmap_ManipulatingyourData_Heatmap can be decomposed like this:\n",
        "\n",
        "\n",
        "![](https://github.com/Francoz-Charlotte/Spatial_teaching_CFediting/blob/master/makeabasicmap_ManipulatingyourData_Heatmap.jpg?raw=1)\n",
        "\n",
        "\n",
        "---\n",
        "\n",
        "\n",
        "\n",
        "For further documentation on folium plugins follow [link](https://python-visualization.github.io/folium/plugins.html)."
      ]
    },
    {
      "cell_type": "markdown",
      "metadata": {
        "id": "rRVg43qE5Y_Z",
        "colab_type": "text"
      },
      "source": [
        "# Success!\n",
        "\n",
        "You should have a heatmap showing the concentrations of Iron Age sites in the region.\n",
        "\n",
        "You could repeat the exercise with sites from any period in which you are interested.\n",
        "\n",
        "Hopefully you've learned to make some basic maps and are starting to understand how to put into practice some of the theory of map design and spatial visualisation we've been discussing.\n",
        "\n",
        "That's it for today... Remember to save your notebook (under a new name) so you can come back to it and practice making basic static maps. \n",
        "\n"
      ]
    },
    {
      "cell_type": "markdown",
      "metadata": {
        "id": "H4FKa3tQHVsi",
        "colab_type": "text"
      },
      "source": [
        "#LexiCode\n",
        "In this practical you have learned new commands that you can now reuse for your own datasets:\n",
        "*\t==  , () []\n",
        "*\t.head_csv()\n",
        "*\t.read_csv()\n",
        "*\tmean()\n",
        "*\tfolium.Map\n",
        "*\trange()\n",
        "*\tlen()\n",
        "*\tiloc[]\n",
        "*\t.value_counts()\n",
        "*\tif =:\n",
        "*\telif =:\n",
        "*\telse =:\n",
        "*\tfolium.Marker()\n",
        "*\tfolium.Icon()\n",
        "*\tfolium.Circle\n",
        "*\tpopup=\n",
        "*\tradius=\n",
        "*\t.values.tolist()\n",
        "*\tplugins.HeatMap()\n"
      ]
    }
  ]
}